{
 "cells": [
  {
   "cell_type": "markdown",
   "id": "cd36dd50",
   "metadata": {},
   "source": [
    "# Pendulum Period Analysis\n",
    "1. Set constants below\n",
    "2. Run all cells to compute period using different degree Taylor series expansions & ASEBT error bound"
   ]
  },
  {
   "cell_type": "code",
   "execution_count": 14,
   "id": "88011d6c",
   "metadata": {},
   "outputs": [],
   "source": [
    "# Imports\n",
    "\n",
    "import numpy as np\n",
    "from scipy.special import factorial2\n",
    "import scipy.integrate as integrate\n",
    "from math import pi\n",
    "from tabulate import tabulate"
   ]
  },
  {
   "cell_type": "code",
   "execution_count": 15,
   "id": "c48bf998",
   "metadata": {},
   "outputs": [],
   "source": [
    "\n",
    "# Inputs\n",
    "L = 1.0                                 # Pendulum length in meters\n",
    "theta_max_deg = 30                      # Theta max in degrees\n",
    "\n",
    "# do not modify\n",
    "theta_max = np.deg2rad(theta_max_deg)   # Convert theta max from degrees to radians\n"
   ]
  },
  {
   "cell_type": "code",
   "execution_count": 16,
   "id": "2bbfd663",
   "metadata": {},
   "outputs": [
    {
     "name": "stdout",
     "output_type": "stream",
     "text": [
      "Results for θ_max = 30° and L = 1.0 m:\n",
      "Method                        Period (s)    Error* (s)\n",
      "--------------------------  ------------  ------------\n",
      "Exact                           2.041338      0.000000\n",
      "Maclaurin Series (1 terms)      2.006409      0.001266\n",
      "Maclaurin Series (2 terms)      1.972808     -0.000059\n",
      "Maclaurin Series (3 terms)      1.974074      0.000003\n",
      "Maclaurin Series (4 terms)      1.974016     -0.000000\n",
      "Maclaurin Series (5 terms)      1.974019      0.000000\n",
      "\n",
      "* ASEBT error bound\n"
     ]
    }
   ],
   "source": [
    "# CONSTANTS\n",
    "g = 9.80665  # in m/s^2, standard value defined by CIPM\n",
    "k = np.sin(theta_max / 2)\n",
    "\n",
    "# 1 * 3 * 5 * 7 * ... * (2n-1) for odd n\n",
    "# 2 * 4 * 6 * 8 * ... * 2n for even n\n",
    "# 1 for n = 0 or n = -1\n",
    "def double_factorial(n: int) -> int:\n",
    "    if n == 0 or n == -1:\n",
    "        return 1\n",
    "    return factorial2(n, exact=True)\n",
    "\n",
    "\n",
    "# Exact pendulum period using definite integral\n",
    "def exact_integral() -> float:\n",
    "    result, _ = integrate.quad(\n",
    "        # integrand\n",
    "        lambda theta: 1 / np.sqrt(1 - k**2 * np.sin(theta)**2),\n",
    "        # bounds of integration\n",
    "        0,\n",
    "        np.pi / 2\n",
    "    )\n",
    "    return result\n",
    "\n",
    "\n",
    "def maclaurin_summand(n: int) -> float:\n",
    "    # (-1)^n * ((2n-1)!! / (2n)!!)^2 * k^(2n) * pi/2\n",
    "    return (-1)**n * ((double_factorial(2 * n - 1) / double_factorial(2 * n))**2) * k**(2 * n) * (pi / 2)\n",
    "\n",
    "# Approximate definite integral using Maclaurin series\n",
    "def mcl_integral_approx(num_terms: int) -> float:\n",
    "    return sum(maclaurin_summand(n) for n in range(num_terms))\n",
    "\n",
    "\n",
    "def main(num_terms: int = 5):\n",
    "    # Compute results\n",
    "    prefactor = 4 * np.sqrt(L / g)\n",
    "    exact = prefactor * exact_integral()\n",
    "    approximations = [prefactor * mcl_integral_approx(num_terms) for num_terms in range(1, num_terms + 1)]\n",
    "    asebt_errors = [prefactor * maclaurin_summand(num_terms + 1) for num_terms in range(1, num_terms + 1)]\n",
    "\n",
    "    # Display results in table\n",
    "    print(f\"Results for θ_max = {theta_max_deg}° and L = {L} m:\")\n",
    "\n",
    "    results_table = [\n",
    "        [\"Method\", \"Period (s)\", \"Error* (s)\"],\n",
    "        [\"Exact\", exact, 0],\n",
    "    ] + [\n",
    "        [f\"Maclaurin Series ({i} terms)\", approximations[i-1], asebt_errors[i-1]]\n",
    "        for i in range(1, num_terms + 1)\n",
    "    ]\n",
    "\n",
    "    print(tabulate(results_table, headers=\"firstrow\", floatfmt=\".6f\", numalign=\"decimal\"))\n",
    "    print()\n",
    "    print(\"* ASEBT error bound\")\n",
    "\n",
    "\n",
    "main()\n"
   ]
  }
 ],
 "metadata": {
  "kernelspec": {
   "display_name": ".venv",
   "language": "python",
   "name": "python3"
  },
  "language_info": {
   "codemirror_mode": {
    "name": "ipython",
    "version": 3
   },
   "file_extension": ".py",
   "mimetype": "text/x-python",
   "name": "python",
   "nbconvert_exporter": "python",
   "pygments_lexer": "ipython3",
   "version": "3.13.1"
  }
 },
 "nbformat": 4,
 "nbformat_minor": 5
}
